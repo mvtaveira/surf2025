{
 "cells": [
  {
   "cell_type": "code",
   "execution_count": 1,
   "id": "fbcbf3cd",
   "metadata": {},
   "outputs": [],
   "source": [
    "import os, glob, random\n",
    "from PIL import Image\n",
    "import torch, torch.nn as nn\n",
    "from torch.utils.data import Dataset, DataLoader\n",
    "import torchvision.transforms as T\n",
    "import torchvision.models as models\n",
    "\n",
    "device = 'cuda' if torch.cuda.is_available() else 'cpu'\n",
    "roots = {\n",
    "    'sin':    'dataset_sin/images',\n",
    "    'square': 'dataset_square/images',\n",
    "    'random': 'dataset_random/images',\n",
    "    'red':    'dataset_red/images',\n",
    "    'drw':    'dataset_drw/images',\n",
    "}\n"
   ]
  },
  {
   "cell_type": "code",
   "execution_count": 2,
   "id": "64d143ed",
   "metadata": {},
   "outputs": [],
   "source": [
    "class PairRPDataset(Dataset):\n",
    "    def __init__(self, roots, split='train', split_ratio=(0.7,0.15,0.15), seed=42, img_size=224):\n",
    "        self.transform = T.Compose([T.Resize((img_size,img_size)), T.ToTensor()])\n",
    "        rng = random.Random(seed)\n",
    "\n",
    "        self.files_by_cls = {cls: sorted(glob.glob(os.path.join(path, \"*.png\"))) for cls, path in roots.items()}\n",
    "        self.split_files = {}\n",
    "        for cls, files in self.files_by_cls.items():\n",
    "            n = len(files)\n",
    "            n_tr = int(split_ratio[0] * n); n_va = int(split_ratio[1] * n)\n",
    "            rng.shuffle(files)\n",
    "            self.split_files[cls] = {\n",
    "                'train': files[:n_tr],\n",
    "                'val':   files[n_tr:n_tr+n_va],\n",
    "                'test':  files[n_tr+n_va:]\n",
    "            }\n",
    "\n",
    "        self.cls_names = sorted(self.files_by_cls.keys())\n",
    "        self.pool = {cls: self.split_files[cls][split] for cls in self.cls_names}\n",
    "\n",
    "    def __len__(self):\n",
    "        return 20000  # virtual pairs per epoch\n",
    "\n",
    "    def __getitem__(self, idx):\n",
    "        same = (idx % 2 == 0)\n",
    "        if same:\n",
    "            cls = random.choice(self.cls_names)\n",
    "            f1, f2 = random.sample(self.pool[cls], 2)\n",
    "            y = 1.0\n",
    "        else:\n",
    "            cls1, cls2 = random.sample(self.cls_names, 2)\n",
    "            f1 = random.choice(self.pool[cls1])\n",
    "            f2 = random.choice(self.pool[cls2])\n",
    "            y = 0.0\n",
    "\n",
    "        x1 = Image.open(f1).convert('L')\n",
    "        x2 = Image.open(f2).convert('L')\n",
    "        x1 = self.transform(x1); x2 = self.transform(x2)\n",
    "        return x1, x2, torch.tensor([y], dtype=torch.float32)"
   ]
  },
  {
   "cell_type": "code",
   "execution_count": 3,
   "id": "c6e07d54",
   "metadata": {},
   "outputs": [],
   "source": [
    "class SiameseNet(nn.Module):\n",
    "    def __init__(self, embed_dim=64):\n",
    "        super().__init__()\n",
    "        backbone = models.resnet18(weights=None)\n",
    "        backbone.conv1 = nn.Conv2d(1, 64, kernel_size=7, stride=2, padding=3, bias=False)\n",
    "        self.backbone = nn.Sequential(*list(backbone.children())[:-1])  # (B,512,1,1)\n",
    "        self.proj = nn.Sequential(\n",
    "            nn.Flatten(),\n",
    "            nn.Linear(512, 256), nn.ReLU(inplace=True),\n",
    "            nn.Linear(256, embed_dim)\n",
    "        )\n",
    "\n",
    "    def forward(self, x):\n",
    "        h = self.backbone(x)\n",
    "        z = self.proj(h)\n",
    "        return nn.functional.normalize(z, dim=1)\n",
    "\n",
    "class ContrastiveLoss(nn.Module):\n",
    "    def __init__(self, margin=1.0):\n",
    "        super().__init__()\n",
    "        self.margin = margin\n",
    "\n",
    "    def forward(self, z1, z2, y):\n",
    "        d = torch.nn.functional.pairwise_distance(z1, z2)\n",
    "        loss_pos = y.squeeze() * (d ** 2)\n",
    "        loss_neg = (1 - y.squeeze()) * torch.clamp(self.margin - d, min=0) ** 2\n",
    "        return (loss_pos + loss_neg).mean()"
   ]
  },
  {
   "cell_type": "code",
   "execution_count": 4,
   "id": "58b0bbd5",
   "metadata": {},
   "outputs": [
    {
     "name": "stdout",
     "output_type": "stream",
     "text": [
      "TRAIN split sizes:\n",
      "  sin: 70 images\n",
      "  square: 70 images\n",
      "  random: 70 images\n",
      "  red: 70 images\n",
      "  drw: 70 images\n",
      "\n",
      "VAL split sizes:\n",
      "  sin: 15 images\n",
      "  square: 15 images\n",
      "  random: 15 images\n",
      "  red: 15 images\n",
      "  drw: 15 images\n"
     ]
    }
   ],
   "source": [
    "train_ds = PairRPDataset(roots, split='train')\n",
    "val_ds   = PairRPDataset(roots, split='val')\n",
    "\n",
    "# show how many files landed in each split\n",
    "print(\"TRAIN split sizes:\")\n",
    "for cls, subdict in train_ds.split_files.items():\n",
    "    print(f\"  {cls}: {len(subdict['train'])} images\")\n",
    "\n",
    "print(\"\\nVAL split sizes:\")\n",
    "for cls, subdict in val_ds.split_files.items():\n",
    "    print(f\"  {cls}: {len(subdict['val'])} images\")\n",
    "\n",
    "# In notebooks/macOS, set num_workers=0 to avoid multiprocessing issues\n",
    "train_loader = DataLoader(train_ds, batch_size=64, shuffle=True,  num_workers=0, pin_memory=True)\n",
    "val_loader   = DataLoader(val_ds,   batch_size=64, shuffle=False, num_workers=0, pin_memory=True)"
   ]
  },
  {
   "cell_type": "code",
   "execution_count": 5,
   "id": "f347fdcf",
   "metadata": {},
   "outputs": [],
   "source": [
    "import time"
   ]
  },
  {
   "cell_type": "code",
   "execution_count": null,
   "id": "ce6d71f3",
   "metadata": {},
   "outputs": [
    {
     "name": "stderr",
     "output_type": "stream",
     "text": [
      "/Users/marianataveira/Desktop/anomaly-detection/venv/lib/python3.12/site-packages/torch/utils/data/dataloader.py:683: UserWarning: 'pin_memory' argument is set as true but not supported on MPS now, then device pinned memory won't be used.\n",
      "  warnings.warn(warn_msg)\n"
     ]
    },
    {
     "name": "stdout",
     "output_type": "stream",
     "text": [
      "Epoch 01 | train 0.0190 | val 0.0001 | time 2252.6s\n",
      "  ✓ saved siamese_best.pt\n",
      "Epoch 02 | train 0.0027 | val 0.0075 | time 5003.7s\n",
      "Epoch 03 | train 0.0004 | val 0.0000 | time 3949.0s\n",
      "  ✓ saved siamese_best.pt\n"
     ]
    }
   ],
   "source": [
    "# Cell 5\n",
    "model = SiameseNet(embed_dim=64).to(device)\n",
    "crit  = ContrastiveLoss(margin=1.0)\n",
    "opt   = torch.optim.Adam(model.parameters(), lr=1e-3)\n",
    "\n",
    "num_epochs = 10\n",
    "best_val = float('inf')\n",
    "total_start = time.time()\n",
    "\n",
    "for epoch in range(1, num_epochs+1):\n",
    "    epoch_start = time.time()\n",
    "    # — training —\n",
    "    model.train()\n",
    "    train_loss = 0.0\n",
    "    for x1, x2, y in train_loader:\n",
    "        x1, x2, y = x1.to(device), x2.to(device), y.to(device)\n",
    "        z1, z2 = model(x1), model(x2)\n",
    "        loss = crit(z1, z2, y)\n",
    "        opt.zero_grad(); loss.backward(); opt.step()\n",
    "        train_loss += loss.item() * x1.size(0)\n",
    "    train_loss /= len(train_loader.dataset)\n",
    "\n",
    "    # — validation —\n",
    "    model.eval()\n",
    "    val_loss = 0.0\n",
    "    with torch.no_grad():\n",
    "        for x1, x2, y in val_loader:\n",
    "            x1, x2, y = x1.to(device), x2.to(device), y.to(device)\n",
    "            z1, z2 = model(x1), model(x2)\n",
    "            loss = crit(z1, z2, y)\n",
    "            val_loss += loss.item() * x1.size(0)\n",
    "    val_loss /= len(val_loader.dataset)\n",
    "\n",
    "    epoch_end = time.time()\n",
    "    print(f\"Epoch {epoch:02d} | train {train_loss:.4f} | val {val_loss:.4f} | \"\n",
    "          f\"time {(epoch_end-epoch_start):.1f}s\")\n",
    "\n",
    "    # save best\n",
    "    if val_loss < best_val:\n",
    "        best_val = val_loss\n",
    "        torch.save(model.state_dict(), \"siamese_best.pt\")\n",
    "        print(\"  ✓ saved siamese_best.pt\")\n",
    "\n",
    "total_end = time.time()\n",
    "print(f\"TOTAL TRAINING TIME: {(total_end-total_start)/60:.1f} minutes\")"
   ]
  }
 ],
 "metadata": {
  "kernelspec": {
   "display_name": "venv",
   "language": "python",
   "name": "python3"
  },
  "language_info": {
   "codemirror_mode": {
    "name": "ipython",
    "version": 3
   },
   "file_extension": ".py",
   "mimetype": "text/x-python",
   "name": "python",
   "nbconvert_exporter": "python",
   "pygments_lexer": "ipython3",
   "version": "3.12.7"
  }
 },
 "nbformat": 4,
 "nbformat_minor": 5
}
